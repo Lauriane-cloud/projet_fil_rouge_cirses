{
  "nbformat": 4,
  "nbformat_minor": 0,
  "metadata": {
    "colab": {
      "provenance": []
    },
    "kernelspec": {
      "name": "python3",
      "display_name": "Python 3"
    },
    "language_info": {
      "name": "python"
    }
  },
  "cells": [
    {
      "cell_type": "code",
      "execution_count": null,
      "metadata": {
        "id": "pMDnY6fYZ43e"
      },
      "outputs": [],
      "source": [
        "%pip install ultralytics\n",
        "from ultralytics import YOLO\n",
        "\n",
        "import torch"
      ]
    },
    {
      "cell_type": "code",
      "source": [
        "torch.hub.download_url_to_file('https://codeload.github.com/JulienPietra/Cirses-fil-rouge/zip/refs/heads/main', 'tmp.zip')\n",
        "!unzip -q tmp.zip -d datasets && rm tmp.zip"
      ],
      "metadata": {
        "id": "z-gsCSKZXn8G"
      },
      "execution_count": null,
      "outputs": []
    },
    {
      "cell_type": "code",
      "source": [
        "%cd datasets/Cirses-fil-rouge-main/"
      ],
      "metadata": {
        "id": "5ItKZ4OXKR60"
      },
      "execution_count": null,
      "outputs": []
    },
    {
      "cell_type": "code",
      "source": [
        "model = YOLO(\"yolov8s.pt\")"
      ],
      "metadata": {
        "id": "2GMqs8sFIPRS"
      },
      "execution_count": null,
      "outputs": []
    },
    {
      "cell_type": "code",
      "source": [
        "results = model.train(data='data_cirses.yaml', epochs=3)"
      ],
      "metadata": {
        "id": "HZNn8mzlME3Y"
      },
      "execution_count": null,
      "outputs": []
    }
  ]
}