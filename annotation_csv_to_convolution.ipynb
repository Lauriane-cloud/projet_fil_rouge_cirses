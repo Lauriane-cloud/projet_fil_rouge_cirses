{
 "cells": [
  {
   "cell_type": "code",
   "execution_count": 1,
   "metadata": {},
   "outputs": [],
   "source": [
    "import pandas as pd"
   ]
  },
  {
   "cell_type": "markdown",
   "metadata": {},
   "source": [
    "### Chargement donnée csv"
   ]
  },
  {
   "cell_type": "code",
   "execution_count": 2,
   "metadata": {},
   "outputs": [
    {
     "name": "stdout",
     "output_type": "stream",
     "text": [
      "                           image        xmin        ymin        xmax  \\\n",
      "0      Normal_DJI_0099_0_800.jpg   44.414894    2.482272   85.549651   \n",
      "1  Normal_DJI_0099_1200_2800.jpg   75.265957   22.695038  112.854621   \n",
      "2  Normal_DJI_0099_1200_2800.jpg  203.989362   68.439719  245.478723   \n",
      "3  Normal_DJI_0099_1200_2800.jpg  263.209242  129.787234  295.124135   \n",
      "4  Normal_DJI_0099_1200_2800.jpg  294.414894  142.907812  318.173770   \n",
      "\n",
      "         ymax  label  \n",
      "0   39.007098  cirse  \n",
      "1   54.255319  cirse  \n",
      "2  105.319149  cirse  \n",
      "3  158.510638  cirse  \n",
      "4  165.248238  cirse  \n"
     ]
    }
   ],
   "source": [
    "chemin_csv = \"C:/Users/33783/OneDrive/Documents/AgroParisTech/3eme_annee/iodaa/Fil_rouge/images/BoundingBoxDJI0099et100/SubimagesDJI0099_300_400_Results/vott-csv-export/DJI_0099_Cirses-export.csv\"\n",
    "\n",
    "donnees_cvs = pd.read_csv(chemin_csv)\n",
    "\n",
    "print(donnees_cvs.head())"
   ]
  },
  {
   "cell_type": "markdown",
   "metadata": {},
   "source": [
    "### Récupération des coordonnées des rectangle que l'on trouve interressant\n",
    "ce sont des sous rectangle des bounding box faite"
   ]
  },
  {
   "cell_type": "code",
   "execution_count": null,
   "metadata": {},
   "outputs": [],
   "source": []
  }
 ],
 "metadata": {
  "kernelspec": {
   "display_name": "Python 3",
   "language": "python",
   "name": "python3"
  },
  "language_info": {
   "codemirror_mode": {
    "name": "ipython",
    "version": 3
   },
   "file_extension": ".py",
   "mimetype": "text/x-python",
   "name": "python",
   "nbconvert_exporter": "python",
   "pygments_lexer": "ipython3",
   "version": "3.11.7"
  }
 },
 "nbformat": 4,
 "nbformat_minor": 2
}
